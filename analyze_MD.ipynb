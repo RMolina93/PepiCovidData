{
 "cells": [
  {
   "cell_type": "markdown",
   "metadata": {},
   "source": [
    "# COVID19 Inhibitory Peptide MD Analysis\n",
    "\n",
    "## Introduction\n",
    "\n",
    "This notebook is part of a project of reproducible analysis by the Structural Bioinformatics Group.\n",
    "\n",
    "This analysis is based on the MD simulations of the binding of the SARS-CoV-2 spike protein (PDB:6LZG) with computationally designed peptide inhibitors.\n",
    "\n",
    "Used libraries are matplotlib and seaborn for plotting, MDAnalysis for the analysis of the MD data, and nglview for protein visualization in the notebook."
   ]
  },
  {
   "cell_type": "code",
   "execution_count": 84,
   "metadata": {},
   "outputs": [],
   "source": [
    "import os\n",
    "import MDAnalysis as mda     # This package is for MD Analysis\n",
    "import nglview as nv         # This is a Jupyter PDB visualization\n",
    "from MDAnalysis.analysis import contacts, distances\n",
    "from matplotlib import animation\n",
    "import numpy as np\n",
    "import pandas as pd\n",
    "import matplotlib.pyplot as plt\n",
    "import seaborn as sns\n",
    "import warnings\n",
    "\n",
    "warnings.filterwarnings(\"ignore\")\n",
    "sns.set_context(\"notebook\", font_scale=1.5, rc={\"lines.linewidth\": 2.5})"
   ]
  },
  {
   "cell_type": "markdown",
   "metadata": {},
   "source": [
    "## Example visualization\n",
    "\n",
    "Data is stored into a topology file that contains the structure of the system, and a trajectory file for each run, we are going to load one at random to see the structure of the complex."
   ]
  },
  {
   "cell_type": "code",
   "execution_count": 2,
   "metadata": {},
   "outputs": [
    {
     "data": {
      "application/vnd.jupyter.widget-view+json": {
       "model_id": "b67b174eabb248d3988ee56e63cbbc85",
       "version_major": 2,
       "version_minor": 0
      },
      "text/plain": [
       "NGLWidget(max_frame=1665)"
      ]
     },
     "metadata": {},
     "output_type": "display_data"
    }
   ],
   "source": [
    "topology = './MD_DATA/2/step3_charmm2namd.psf'\n",
    "trajectory = './MD_DATA/2/run1.xtc'\n",
    "u = mda.Universe(topology, trajectory)\n",
    "\n",
    "protein = u.select_atoms('protein')\n",
    "w = nv.show_mdanalysis(protein)\n",
    "w"
   ]
  },
  {
   "cell_type": "markdown",
   "metadata": {},
   "source": [
    "Once we saw how is the Molecular Simulation of the Structure, let's check the segments inside of the atom universe."
   ]
  },
  {
   "cell_type": "markdown",
   "metadata": {},
   "source": [
    "# Generate the GIF and plots\n",
    "\n",
    "Let's generate a loop in order to check the distances and generate the animation for all the runs. First a function that takes two groups of atoms and computes the matrix of distances and the number of contacts at each timeframe is generated.\n",
    "\n",
    "First of all, we need to extract the residues of the interace between the S Protein and the ACE2.\n",
    "\n",
    "## Interface Residues detection\n",
    "\n",
    "First of all, let's load the PDB file with code 6LZG which contains the interaction between the S protein and the ACE2"
   ]
  },
  {
   "cell_type": "code",
   "execution_count": 25,
   "metadata": {},
   "outputs": [
    {
     "data": {
      "application/vnd.jupyter.widget-view+json": {
       "model_id": "0c7d918995c4409ab6af3eb36abe2029",
       "version_major": 2,
       "version_minor": 0
      },
      "text/plain": [
       "NGLWidget()"
      ]
     },
     "metadata": {},
     "output_type": "display_data"
    }
   ],
   "source": [
    "u = mda.Universe(\"./6lzg.pdb\")  \n",
    "protein = u.select_atoms('protein')\n",
    "w = nv.show_mdanalysis(protein)\n",
    "w\n",
    "\n"
   ]
  },
  {
   "cell_type": "code",
   "execution_count": null,
   "metadata": {},
   "outputs": [],
   "source": [
    "chains = [segment.segid for segment in protein.segments]\n",
    "spike_ca = u.select_atoms('segid B and name CA and around 6 segid A')\n",
    "residueinterface = [ \"or resid \" + str(atom.resid) for atom in spike_ca]"
   ]
  },
  {
   "cell_type": "markdown",
   "metadata": {},
   "source": [
    "With this we defined the residues of the interface of the Spike protein that are within 6 amstrong of the ACE2 protein. We are going to use the identifier of these residues to extract the interace in the MD simulation."
   ]
  },
  {
   "cell_type": "code",
   "execution_count": 68,
   "metadata": {},
   "outputs": [],
   "source": [
    "def get_distances(u, groupA, groupB, radius):\n",
    "    \n",
    "    distance_series = list()\n",
    "    num_contacts = list()\n",
    "    \n",
    "    for timestep in u.trajectory:\n",
    "        dist = distances.distance_array(groupA.positions, groupB.positions)\n",
    "        distance_series.append(dist)\n",
    "        n_contacts = contacts.contact_matrix(dist, radius).sum()\n",
    "        num_contacts.append([timestep.frame, n_contacts])\n",
    "    \n",
    "    contacts_df = pd.DataFrame(num_contacts, columns=[\"Timestep\", \"# Contacts\"])\n",
    "    \n",
    "    return (contacts_df, distance_series)"
   ]
  },
  {
   "cell_type": "markdown",
   "metadata": {},
   "source": [
    "Once it is done, we iterate over all the peptides and replicates in order to generate plots for each one of them. For this we generate a function that plots all the needed metrics based on the given files. Also, an extra funcion that generates an animation of the contact evolution."
   ]
  },
  {
   "cell_type": "code",
   "execution_count": 82,
   "metadata": {},
   "outputs": [],
   "source": [
    "def plot_md(model):\n",
    "    \n",
    "    numberofreplicates = 3\n",
    "    \n",
    "    f, axes = plt.subplots(3, 4, figsize=(40, 35))\n",
    "    f.suptitle(\"Showing replicates for Peptide #{}\".format(str(model)), fontsize=30, x=0.15, y=0.95)\n",
    "    \n",
    "    for replicate in range(1, numberofreplicates+1):\n",
    "        \n",
    "        topology = os.path.join(\"MD_DATA\", str(model), \"step3_charmm2namd.psf\")\n",
    "        trajectory = os.path.join(\"MD_DATA\", str(model), \"run{}.xtc\".format(str(replicate)))\n",
    "        u = mda.Universe(topology, trajectory)\n",
    "\n",
    "        drug_ca = u.select_atoms('segid PROB and name CA')\n",
    "        selection = 'segid PROA and name CA and ({})'.format(\" \".join(residueinterface)[3:])\n",
    "        spike_ca = u.select_atoms(selection)\n",
    "        print (len(spike_ca))\n",
    "\n",
    "        contacts_df, distance_series = get_distances(u, spike_ca, drug_ca, 7)\n",
    "\n",
    "        sns.heatmap(distance_series[0], ax=axes[replicate-1,0], cmap=sns.cm.rocket_r, vmin=3, vmax=10)\n",
    "        sns.heatmap(sum(distance_series)/len(distance_series), ax=axes[replicate-1,1], cmap=sns.cm.rocket_r, vmin=3, vmax=10)\n",
    "        sns.heatmap(distance_series[-1], ax=axes[replicate-1,2], cmap=sns.cm.rocket_r, vmin=3, vmax=10)\n",
    "        sns.lineplot(data=contacts_df, x=\"Timestep\", y=\"# Contacts\", ax=axes[replicate-1, 3])\n",
    "\n",
    "        \n",
    "        for index, label in zip(range(3), [\"Start\", \"Average\", \"Final\"]):\n",
    "            axes[replicate-1,index].set_title(label, fontdict={'fontsize':26})\n",
    "            axes[replicate-1,index].set_xticks(np.arange(0, len(drug_ca.residues), step=1))\n",
    "            axes[replicate-1,index].set_xticklabels([str(residue)[9:-1] for residue in drug_ca.residues], rotation=45, fontsize=12)\n",
    "            axes[replicate-1,index].set_yticks(np.arange(0, len(spike_ca.residues), step=1))\n",
    "            axes[replicate-1,index].set_yticklabels([str(residue)[9:-1] for residue in spike_ca.residues],rotation=45, fontsize=12)\n",
    "        axes[replicate-1,3].set_title(\"Number of contacts over time\", fontdict={'fontsize':26})\n",
    "        \n",
    "    plt.savefig(\"./Results/model_{}.png\".format(str(model)))\n",
    "    return f.show()"
   ]
  },
  {
   "cell_type": "code",
   "execution_count": 90,
   "metadata": {},
   "outputs": [],
   "source": [
    "def plot_animation(model):\n",
    "    \n",
    "    numberofreplicates = 1\n",
    "    \n",
    "    for replicate in range(1, numberofreplicates+1):\n",
    "        \n",
    "        topology = os.path.join(\"MD_DATA\", str(model), \"step3_charmm2namd.psf\")\n",
    "        trajectory = os.path.join(\"MD_DATA\", str(model), \"run{}.xtc\".format(str(replicate)))\n",
    "        u = mda.Universe(topology, trajectory)\n",
    "\n",
    "        drug_ca = u.select_atoms('segid PROB and name CA')\n",
    "        selection = 'segid PROA and name CA and ({})'.format(\" \".join(residueinterface)[3:])\n",
    "        spike_ca = u.select_atoms(selection)\n",
    "\n",
    "        contacts_df, distance_series = get_distances(u, spike_ca, drug_ca, 7)\n",
    "        \n",
    "        fig, ax = plt.subplots()\n",
    "        plt.ylabel(\"S Protein\")\n",
    "        plt.xlabel(\"Peptide\")\n",
    "        plt.title(\"Distance between residues\")\n",
    "        \n",
    "        ax.set_xticks(np.arange(0, len(drug_ca.residues), step=1))\n",
    "        ax.set_xticklabels([str(residue)[9:-1] for residue in drug_ca.residues], rotation=45, fontsize=12)\n",
    "        ax.set_yticks(np.arange(0, len(spike_ca.residues), step=1))\n",
    "        ax.set_yticklabels([str(residue)[9:-1] for residue in spike_ca.residues],rotation=45, fontsize=12)\n",
    "        \n",
    "        \n",
    "        def animate(i):\n",
    "            plt.imshow(distance_series[i], cmap=\"viridis_r\", vmin=0, vmax=10)\n",
    "        \n",
    "        ani = animation.FuncAnimation(fig, animate, interval=200)\n",
    "        ani.save(\"./Results/animations/Model_{}_rep_{}.gif\".format(model, replicate), dpi=100, bitrate=30)\n"
   ]
  },
  {
   "cell_type": "markdown",
   "metadata": {},
   "source": [
    "# Model Analysis\n",
    "\n",
    "## Summary of the models:\n",
    "\n",
    "Here we see summary of what happens with each one of the models, in order to gather the data into a quick view. Below will appear the plots for each one of the replicates for the models, being the first plot the initial conformation of the binding of the peptide, the second will be the average binding during all the timesteps, the third will be the final conformation of binding, and the last one will be the number of contacts at each timestep.\n",
    "\n",
    "Model **14 and 18** have **no data**.\n",
    "\n",
    "**Model 1, 6, 7, 8, 11, 15, 17:** Unbound.\n",
    "\n",
    "**Model 2:** Stronger bind in two replicas. Unbound in the third.\n",
    "\n",
    "**Model 3, 4, 16:** Stronger bind in one replica. Unbound in others.\n",
    "\n",
    "**Model 5, 20:** One replica mantains bound, another changes binding site, another unbounds.\n",
    "\n",
    "**Model 8: Best model overall, mantains the binding with same residues in the three replicas. In one of them it tries to unbound but it regains the binding.**\n",
    "\n",
    "**Model 9: Second best model overall**\n",
    "\n",
    "**Model 10, 12:** In the three replicas changes to a less stable conformation\n",
    "\n",
    "**Model 13:** One replica lowers the binding energy, another one makes a better bound, and another one unbounds.\n",
    "\n",
    "**Model 19:** Changes one conformation. Unbound in two replicas"
   ]
  },
  {
   "cell_type": "code",
   "execution_count": null,
   "metadata": {},
   "outputs": [],
   "source": [
    "for model in [1,2,3,4,5,6,7,8,9,10,11,12,13,14,15,16,17,18,19,20]:\n",
    "    plot_md(model)"
   ]
  },
  {
   "cell_type": "code",
   "execution_count": 91,
   "metadata": {},
   "outputs": [
    {
     "name": "stderr",
     "output_type": "stream",
     "text": [
      "MovieWriter ffmpeg unavailable; using Pillow instead.\n"
     ]
    },
    {
     "data": {
      "image/png": "[encoded data removed]",
      "text/plain": [
       "<Figure size 432x288 with 1 Axes>"
      ]
     },
     "metadata": {
      "needs_background": "light"
     },
     "output_type": "display_data"
    }
   ],
   "source": [
    "for model in [8]:#[1,2,3,4,5,6,7,8,9,10,11,12,13,14,15,16,17,18,19,20]:\n",
    "    plot_animation(model)"
   ]
  },
  {
   "cell_type": "code",
   "execution_count": null,
   "metadata": {},
   "outputs": [],
   "source": []
  }
 ],
 "metadata": {
  "kernelspec": {
   "display_name": "Python 3",
   "language": "python",
   "name": "python3"
  },
  "language_info": {
   "codemirror_mode": {
    "name": "ipython",
    "version": 3
   },
   "file_extension": ".py",
   "mimetype": "text/x-python",
   "name": "python",
   "nbconvert_exporter": "python",
   "pygments_lexer": "ipython3",
   "version": "3.6.8"
  }
 },
 "nbformat": 4,
 "nbformat_minor": 2
}
